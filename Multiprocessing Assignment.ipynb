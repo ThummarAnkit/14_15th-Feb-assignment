{
 "cells": [
  {
   "cell_type": "markdown",
   "id": "77430dec-c6f6-49a9-afc3-435998189526",
   "metadata": {},
   "source": [
    "# Q1. What is multiprocessing in python? Why is it useful?"
   ]
  },
  {
   "cell_type": "markdown",
   "id": "30dc9d02-ac28-4630-b9c9-2b0998f98fe1",
   "metadata": {},
   "source": [
    "__Ans. :__<br>\n",
    "\n",
    "Multiprocessing in Python is a __built-in package that allows the system to run multiple processes simultaneously__. It will enable the breaking of applications into smaller threads that can run independently.\n",
    "\n",
    "Multiprocessing is __useful for CPU-bound processes, such as computationally heavy tasks since it will benefit from having multiple processors__; similar to how multicore computers work faster than computers with a single core."
   ]
  },
  {
   "cell_type": "markdown",
   "id": "61238ccd-f5d2-4f17-9e69-62fc7b3b6f52",
   "metadata": {},
   "source": [
    "# Q2. What are the differences between multiprocessing and multithreading?"
   ]
  },
  {
   "cell_type": "markdown",
   "id": "7f24c529-b13a-40e6-9008-3f4c43098848",
   "metadata": {},
   "source": [
    "__Ans. :__<br>\n",
    "\n",
    "__Multiprocessing executes many processes simultaneously, whereas multithreading executes many threads simultaneously__. Multithreading uses a common address space for all the threads, whereas multiprocessing creates a separate address space for each process."
   ]
  },
  {
   "cell_type": "markdown",
   "id": "fe502d5a-a109-4ff4-8d44-b187617b2574",
   "metadata": {},
   "source": [
    "# Q3. Write a python code to create a process using the multiprocessing module."
   ]
  },
  {
   "cell_type": "code",
   "execution_count": 1,
   "id": "8ecce980-2159-43f2-a826-4825c6452786",
   "metadata": {},
   "outputs": [
    {
     "name": "stdout",
     "output_type": "stream",
     "text": [
      "Running in a separate process\n",
      "Process completed\n"
     ]
    }
   ],
   "source": [
    "import multiprocessing\n",
    "\n",
    "def my_func():\n",
    "    \"\"\"Function to be executed in a separate process\"\"\"\n",
    "    print(\"Running in a separate process\")\n",
    "\n",
    "if __name__ == \"__main__\":\n",
    "    # Create a new process using the Process class\n",
    "    p = multiprocessing.Process(target=my_func)\n",
    "\n",
    "    # Start the process\n",
    "    p.start()\n",
    "\n",
    "    # Wait for the process to complete\n",
    "    p.join()\n",
    "\n",
    "    print(\"Process completed\")"
   ]
  },
  {
   "cell_type": "markdown",
   "id": "3f282261-01c5-4566-bb0e-0aa7ae068408",
   "metadata": {},
   "source": [
    "# Q4. What is a multiprocessing pool in python? Why is it used?"
   ]
  },
  {
   "cell_type": "markdown",
   "id": "e6c061ad-312c-4705-a591-fead6c811e13",
   "metadata": {},
   "source": [
    "__Ans. :__<br>\n",
    "\n",
    "The Python Multiprocessing Pool class __allows you to create and manage process pools in Python.__\n",
    "<br>\n",
    "Python multiprocessing Pool __can be used for parallel execution of a function across multiple input values, distributing the input data across processes__ (data parallelism)."
   ]
  },
  {
   "cell_type": "markdown",
   "id": "0fc7883a-b469-4da8-bcf4-6e4d5274080f",
   "metadata": {},
   "source": [
    "# Q5. How can we create a pool of worker processes in python using the multiprocessing module?"
   ]
  },
  {
   "cell_type": "markdown",
   "id": "7c42ada6-ae38-4c20-9575-f4446ddaad83",
   "metadata": {},
   "source": [
    "__Ans. :__<br>\n",
    "\n",
    "To create a pool of worker processes in Python using the __multiprocessing__ module, you can use the __multiprocessing.Pool__ class. Here's an example:"
   ]
  },
  {
   "cell_type": "code",
   "execution_count": 2,
   "id": "17bfa7b7-811d-42af-afc9-c36a51a57cc4",
   "metadata": {},
   "outputs": [
    {
     "name": "stdout",
     "output_type": "stream",
     "text": [
      "[1, 4, 9, 16, 25]\n"
     ]
    }
   ],
   "source": [
    "import multiprocessing\n",
    "\n",
    "def my_function(x):\n",
    "    \"\"\"A function to be executed by a worker process\"\"\"\n",
    "    return x ** 2\n",
    "\n",
    "if __name__ == \"__main__\":\n",
    "    # Create a pool with 4 worker processes\n",
    "    with multiprocessing.Pool(processes=4) as pool:\n",
    "\n",
    "        # Create a list of arguments for the function\n",
    "        args = [1, 2, 3, 4, 5]\n",
    "\n",
    "        # Use the pool to apply the function to the list of arguments\n",
    "        results = pool.map(my_function, args)\n",
    "\n",
    "        # Print the results\n",
    "        print(results)"
   ]
  },
  {
   "cell_type": "markdown",
   "id": "bba3f150-024f-4389-8ee6-30e46d115adc",
   "metadata": {},
   "source": [
    "In this example, we first define a simple function __my_function()__ that we want to execute in parallel using a pool of worker processes. We then create a new __multiprocessing.Pool__ object with the __processes__ parameter set to the number of worker processes we want to create.\n",
    "\n",
    "Next, we create a list of arguments for the __my_function()__ function and use the __map()__ method of the pool object to apply the function to each element in the list. The __map()__ method returns a list of the results of the function for each argument in the input list.\n",
    "\n",
    "Finally, we print the results of the function. Since the __map()__ method returns the results in the order they were processed, the output should be __[1, 4, 9, 16, 25]__, which are the squared values of the input arguments.\n",
    "\n",
    "Note that it's important to include the 'if __name__ == \"__main__\"' block when using the __multiprocessing__ module, as this helps to ensure that the code is executed correctly on both Windows and Unix-based systems."
   ]
  },
  {
   "cell_type": "markdown",
   "id": "c22069db-eea0-4c91-a9b6-8df1167b262a",
   "metadata": {},
   "source": [
    "# Q6. Write a python program to create 4 processes, each process should print a different number using the multiprocessing module in python."
   ]
  },
  {
   "cell_type": "code",
   "execution_count": 3,
   "id": "339209db-4024-44b1-a7b7-73f3362cafab",
   "metadata": {},
   "outputs": [
    {
     "name": "stdout",
     "output_type": "stream",
     "text": [
      "Process Process-6Process prints Process Process-70  \n",
      "Process-8Processprints   prints1 Process-9\n",
      "2 \n",
      "prints 3\n",
      "All processes have finished\n"
     ]
    }
   ],
   "source": [
    "import multiprocessing\n",
    "\n",
    "def print_number(num):\n",
    "    \"\"\"Prints a given number\"\"\"\n",
    "    print(\"Process\", multiprocessing.current_process().name, \"prints\", num)\n",
    "\n",
    "if __name__ == \"__main__\":\n",
    "    # Create 4 processes\n",
    "    processes = []\n",
    "    for i in range(4):\n",
    "        p = multiprocessing.Process(target=print_number, args=(i,))\n",
    "        processes.append(p)\n",
    "        p.start()\n",
    "\n",
    "    # Wait for all processes to finish\n",
    "    for p in processes:\n",
    "        p.join()\n",
    "\n",
    "    print(\"All processes have finished\")"
   ]
  },
  {
   "cell_type": "code",
   "execution_count": null,
   "id": "c0c2b3d6-aa7c-4882-bd85-ba72765b759c",
   "metadata": {},
   "outputs": [],
   "source": []
  }
 ],
 "metadata": {
  "kernelspec": {
   "display_name": "Python 3 (ipykernel)",
   "language": "python",
   "name": "python3"
  },
  "language_info": {
   "codemirror_mode": {
    "name": "ipython",
    "version": 3
   },
   "file_extension": ".py",
   "mimetype": "text/x-python",
   "name": "python",
   "nbconvert_exporter": "python",
   "pygments_lexer": "ipython3",
   "version": "3.10.8"
  }
 },
 "nbformat": 4,
 "nbformat_minor": 5
}
